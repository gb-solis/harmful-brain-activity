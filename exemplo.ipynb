{
 "cells": [
  {
   "cell_type": "code",
   "execution_count": 9,
   "id": "0061e17b",
   "metadata": {},
   "outputs": [],
   "source": [
    "from utils import *"
   ]
  },
  {
   "cell_type": "markdown",
   "id": "2a7ac858",
   "metadata": {},
   "source": [
    "### Exemplo A:\n",
    "Printa espectrogramas, histogramas e séries temporais para todos os electrodos em `EXAMPLE_PATH`"
   ]
  },
  {
   "cell_type": "code",
   "execution_count": null,
   "id": "c8c32dfe",
   "metadata": {},
   "outputs": [],
   "source": [
    "EXAMPLE_PATH = BASEPATH + '1000913311.parquet'\n",
    "\n",
    "df = pd.read_parquet(EXAMPLE_PATH)\n",
    "for nome, col in df.items():\n",
    "    espectrograma(col, nome, cutoff=20); plt.show()\n",
    "    histograma(col, nome); plt.show()\n",
    "    série_temporal(col, nome); plt.show()"
   ]
  },
  {
   "cell_type": "markdown",
   "id": "495a4610",
   "metadata": {},
   "source": [
    "### Exemplo B:\n",
    "Retorna o histograma conjunto de todos os arquivos listados em `paths`"
   ]
  },
  {
   "cell_type": "code",
   "execution_count": null,
   "id": "8ecb3a0a",
   "metadata": {},
   "outputs": [],
   "source": [
    "rel_paths = ['1000913311.parquet',\n",
    "'1001369401.parquet',\n",
    "'1001487592.parquet',\n",
    "'1001717358.parquet',\n",
    "'1002136740.parquet',\n",
    "'1002142157.parquet',\n",
    "'1002197945.parquet',\n",
    "'1002379034.parquet',\n",
    "'1002576868.parquet',\n",
    "'100261680.parquet',\n",
    "'1002858110.parquet',\n",
    "'1003011202.parquet',\n",
    "'1003163681.parquet',\n",
    "'1003330515.parquet',\n",
    "'1003353736.parquet',\n",
    "]\n",
    "\n",
    "paths = [BASEPATH + p for p in rel_paths]\n",
    "\n",
    "hist_dict = combined_hist(paths)\n",
    "\n",
    "# TODO: Pegar os Counters e plotar com o matplotlib"
   ]
  }
 ],
 "metadata": {
  "kernelspec": {
   "display_name": "Python 3 (ipykernel)",
   "language": "python",
   "name": "python3"
  },
  "language_info": {
   "codemirror_mode": {
    "name": "ipython",
    "version": 3
   },
   "file_extension": ".py",
   "mimetype": "text/x-python",
   "name": "python",
   "nbconvert_exporter": "python",
   "pygments_lexer": "ipython3",
   "version": "3.10.12"
  }
 },
 "nbformat": 4,
 "nbformat_minor": 5
}
