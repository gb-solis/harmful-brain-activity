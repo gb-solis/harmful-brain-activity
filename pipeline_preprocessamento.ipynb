{
 "cells": [
  {
   "cell_type": "code",
   "execution_count": 1,
   "id": "418ec49c-a31e-45c4-a5d6-e18ddbbebbd1",
   "metadata": {
    "tags": []
   },
   "outputs": [],
   "source": [
    "from collections import defaultdict\n",
    "import pandas as pd\n",
    "import seaborn as sns\n",
    "import matplotlib.pyplot as plt\n",
    "import numpy as np\n",
    "import os\n",
    "import time\n",
    "from keras import layers\n",
    "from keras import models\n",
    "import tensorflow as tf\n",
    "from keras import optimizers\n",
    "import pickle\n",
    "import scipy as sp\n",
    "import random"
   ]
  },
  {
   "cell_type": "code",
   "execution_count": 2,
   "id": "39ecfa43-e1ac-4e52-aa1a-a9cfc37b8f21",
   "metadata": {
    "tags": []
   },
   "outputs": [],
   "source": [
    "MAIN_FOLDER_PATH='C:\\\\Users\\\\renat\\\\Projetos\\\\Harmful Brain Activity Classification'\n",
    "\n",
    "TARGETS = ['seizure_vote','lpd_vote','gpd_vote','lrda_vote','grda_vote','other_vote']\n",
    "\n",
    "CHAINS = {\n",
    "    'LL' : [(\"Fp1\",\"F7\"),(\"F7\",\"T3\"),(\"T3\",\"T5\"),(\"T5\",\"O1\")],\n",
    "    'RL' : [(\"Fp2\",\"F8\"),(\"F8\",\"T4\"),(\"T4\",\"T6\"),(\"T6\",\"O2\")],\n",
    "    'LP' : [(\"Fp1\",\"F3\"),(\"F3\",\"C3\"),(\"C3\",\"P3\"),(\"P3\",\"O1\")],\n",
    "    'RP' : [(\"Fp2\",\"F4\"),(\"F4\",\"C4\"),(\"C4\",\"P4\"),(\"P4\",\"O2\")]\n",
    "}\n",
    "\n",
    "EEG_COL_NAMES=['Fp1', 'F3', 'C3', 'P3', 'F7', 'T3', 'T5', 'O1', 'Fz', 'Cz', 'Pz',\n",
    "       'Fp2', 'F4', 'C4', 'P4', 'F8', 'T4', 'T6', 'O2', 'EKG']\n",
    "\n",
    "EEG_DDP_COL_NAMES=['Fp1-F7', 'F7-T3', 'T3-T5', 'T5-O1', 'Fp2-F8', 'F8-T4', 'T4-T6', 'T6-O2',\n",
    "               'Fp1-F3', 'F3-C3', 'C3-P3', 'P3-O1', 'Fp2-F4', 'F4-C4', 'C4-P4', 'P4-O2', 'EKG']\n",
    "\n",
    "K = 1.5 # parâmetro para detecção de outliers (e.g limInf = q1 - k*IQR)"
   ]
  },
  {
   "cell_type": "code",
   "execution_count": 3,
   "id": "e44a9090-6ee0-45a5-9a55-6e2c2211ac59",
   "metadata": {
    "tags": []
   },
   "outputs": [],
   "source": [
    "def get_sample(row,metadata,window=True):\n",
    "    \n",
    "    eeg_id = str(metadata.loc[row,'eeg_id'])\n",
    "    eeg_offset = int(metadata.loc[row,'eeg_label_offset_seconds'])\n",
    "    \n",
    "    spect_id = str(metadata.loc[row,'spectrogram_id'])\n",
    "    spect_offset = int(metadata.loc[row,'spectrogram_label_offset_seconds'])\n",
    "    \n",
    "    eeg = pd.read_parquet(MAIN_FOLDER_PATH+f'\\\\train_eegs\\\\{eeg_id}.parquet')\n",
    "    spect = pd.read_parquet(MAIN_FOLDER_PATH+f'\\\\train_spectrograms\\\\{spect_id}.parquet')\n",
    "    \n",
    "    # fill nans with the mean\n",
    "    \n",
    "    eeg=eeg.fillna(eeg.mean())\n",
    "    spect=spect.fillna(spect.mean())\n",
    "    \n",
    "    if window:        \n",
    "        length=10\n",
    "        eeg = eeg.iloc[(eeg_offset+20)*200:(eeg_offset+30)*200]\n",
    "        spect = spect.loc[(spect.time>=spect_offset+295)&(spect.time<spect_offset+305)]\n",
    "        \n",
    "    else:\n",
    "        length=50\n",
    "        eeg = eeg.iloc[eeg_offset*200:(eeg_offset+50)*200]\n",
    "        spect = spect.loc[(spect.time>=spect_offset)&(spect.time<spect_offset+600)]\n",
    "        \n",
    "    label = metadata.loc[row,TARGETS].values\n",
    "        \n",
    "    return eeg, spect, label\n",
    "\n",
    "def load_data(data,window=True):\n",
    "    \n",
    "    eeg_tensor=[]\n",
    "    sp_tensor=[]\n",
    "    labels=[]\n",
    "    \n",
    "    for row_index in range(data.shape[0]):\n",
    "\n",
    "        try:\n",
    "            eeg, spect, label = get_sample(row_index,metadata=data,window=window)       \n",
    "        except:\n",
    "            print(f'There was a problem with row {row_index}!')\n",
    "        else:\n",
    "            eeg_tensor.append(eeg.values)\n",
    "            sp_tensor.append(spect.iloc[:,1:].values)\n",
    "            labels.append(label)\n",
    "    \n",
    "    return np.stack(eeg_tensor), np.stack(sp_tensor), np.array(labels)"
   ]
  },
  {
   "cell_type": "code",
   "execution_count": 4,
   "id": "47c393d9-3bbf-41aa-b510-5a2b0311dc69",
   "metadata": {
    "tags": []
   },
   "outputs": [],
   "source": [
    "# Retorna um mapa indicando quais colunas, em cada amostra, possuem valores aberrantes \n",
    "\n",
    "def tell_liers(eegs, return_lims=False):\n",
    "\n",
    "    liers=pd.DataFrame({col:[0]*eegs.shape[0] for col in EEG_COL_NAMES})\n",
    "    \n",
    "    limites_dic=defaultdict(list)\n",
    "    \n",
    "    for col in range(eegs.shape[2]):\n",
    "\n",
    "        limites = {'lim_inf':[],'lim_sup':[]}\n",
    "\n",
    "        for index, sample in enumerate(eegs):\n",
    "\n",
    "            arr=sample[:,col]\n",
    "\n",
    "            #if np.std(arr)==0: liers.loc[index,EEG_COL_NAMES[col]]=1\n",
    "\n",
    "            q1, q2, q3 = np.percentile(arr, [25, 50, 75])\n",
    "            iqr = q3 - q1\n",
    "\n",
    "            lim_sup = q3 + K * iqr\n",
    "            lim_inf = q1 - K * iqr\n",
    "\n",
    "            limites['lim_inf'].append(lim_inf)\n",
    "            limites['lim_sup'].append(lim_sup)\n",
    "\n",
    "        # calcular os LIM_INF e LIM_SUP dos pools de lim_infs e lim_sups       \n",
    "\n",
    "        pool_infs = np.array(limites['lim_inf'])\n",
    "        pool_sups = np.array(limites['lim_sup'])\n",
    "        \n",
    "        limites_dic[col]+=[pool_infs,pool_sups]\n",
    "        \n",
    "        q_infs = np.percentile(pool_infs, [25, 50, 75])\n",
    "        q_sups = np.percentile(pool_sups, [25, 50, 75])\n",
    "\n",
    "        iqr_infs = q_infs[2] - q_infs[0] # IQR do conjunto de limites inferiores\n",
    "        iqr_sups = q_sups[2] - q_sups[0] # IQR do conjunto de limites superiores\n",
    "\n",
    "        LIM_INF = q_infs[0] - K * iqr_infs\n",
    "        LIM_SUP = q_sups[2] + K * iqr_sups\n",
    "\n",
    "        # agora, considero outlier toda amostra cujo lim_inf seja menor que LIM_INF e toda amostra cujo lim_sup seja maior que LIM_SUP\n",
    "\n",
    "        for index, lim in enumerate(zip(limites['lim_inf'],limites['lim_sup'])):\n",
    "            if lim[0]<LIM_INF or lim[1]>LIM_SUP:\n",
    "                liers.loc[index,EEG_COL_NAMES[col]]=1\n",
    "                \n",
    "    if return_lims==True:\n",
    "        \n",
    "        return liers, limites_dic\n",
    "    \n",
    "    elif return_lims==False:\n",
    "        \n",
    "        return liers\n",
    "    \n",
    "\n",
    "def big_liers(liers, threshold=10):\n",
    "    \n",
    "    # retorna um dataframe contendo as amostras que devem ser removidas\n",
    "    \n",
    "    big_liers=[]\n",
    "    \n",
    "    for index, row in liers.iterrows():\n",
    "        \n",
    "        if row.sum()>threshold:\n",
    "            big_liers.append(index)\n",
    "            \n",
    "    print(f'Número de big liers: {len(big_liers)}')        \n",
    "    print(f'Proporção de outliers: {len(big_liers)/liers.shape[0]}')\n",
    "    \n",
    "    return big_liers"
   ]
  },
  {
   "cell_type": "markdown",
   "id": "7a3ccb24-f850-4fac-86ff-917ee04daa74",
   "metadata": {},
   "source": [
    "## Load metadata, select non-overlaping samples and transform labels into probability distributions"
   ]
  },
  {
   "cell_type": "code",
   "execution_count": 5,
   "id": "6cf5dfcc-e7f5-400c-8abd-8e640e4ef0c2",
   "metadata": {
    "tags": []
   },
   "outputs": [],
   "source": [
    "train = pd.read_csv(MAIN_FOLDER_PATH+'\\\\train.csv')\n",
    "\n",
    "df=train.groupby('eeg_id')[['spectrogram_id', 'eeg_label_offset_seconds','spectrogram_label_offset_seconds', 'patient_id']].agg({\n",
    "    'spectrogram_id':'first', 'eeg_label_offset_seconds':'min', 'spectrogram_label_offset_seconds':'min', 'patient_id':'first'})\n",
    "\n",
    "\n",
    "# normalizing labels\n",
    "\n",
    "tmp = train.groupby('eeg_id')[TARGETS].agg('sum')\n",
    "for t in TARGETS:\n",
    "    df[t] = tmp[t].values\n",
    "    \n",
    "y_data = df[TARGETS].values\n",
    "y_data = y_data / y_data.sum(axis=1,keepdims=True)\n",
    "df[TARGETS] = y_data\n",
    "\n",
    "tmp = train.groupby('eeg_id')[['expert_consensus']].agg('first')\n",
    "df['target'] = tmp\n",
    "\n",
    "df = df.reset_index()"
   ]
  },
  {
   "cell_type": "code",
   "execution_count": 6,
   "id": "d3efd962-acbb-4eba-bbda-7b3d5d63288a",
   "metadata": {
    "tags": []
   },
   "outputs": [
    {
     "data": {
      "text/plain": [
       "Text(0.5, 1.0, \"'df' target distribution\")"
      ]
     },
     "execution_count": 6,
     "metadata": {},
     "output_type": "execute_result"
    },
    {
     "data": {
      "image/png": "[encoded data removed]",
      "text/plain": [
       "<Figure size 1500x500 with 2 Axes>"
      ]
     },
     "metadata": {},
     "output_type": "display_data"
    }
   ],
   "source": [
    "fig, ax = plt.subplots(1,2, figsize=(15,5))\n",
    "\n",
    "sns.histplot(data=train.expert_consensus, ax=ax[0])\n",
    "ax[0].set_title(\"'train' target distribution\")\n",
    "\n",
    "sns.histplot(data=df.target, ax=ax[1])\n",
    "ax[1].set_title(\"'df' target distribution\")"
   ]
  },
  {
   "cell_type": "markdown",
   "id": "adbc6a40-fad8-4315-9324-f819e86f61b7",
   "metadata": {},
   "source": [
    "## Load data from files"
   ]
  },
  {
   "cell_type": "code",
   "execution_count": 7,
   "id": "98026f12-1b90-4784-9cec-8cd592a95ae1",
   "metadata": {
    "tags": []
   },
   "outputs": [],
   "source": [
    "def load_grouped(df, column='target',window=True):\n",
    "    \n",
    "    output = defaultdict(list)\n",
    "    \n",
    "    groups=df.groupby(column)\n",
    "    \n",
    "    for group_name, group_data in groups:\n",
    "        \n",
    "        print(f'Loading group {group_name}.')\n",
    "        \n",
    "        eegs, spects, labels = load_data(group_data.reset_index().drop('index', axis=1),window=window)\n",
    "        \n",
    "        output[group_name]+=[eegs, spects, labels]\n",
    "        \n",
    "    return output"
   ]
  },
  {
   "cell_type": "markdown",
   "id": "6175b23d-54bf-4d66-8a0a-cf607b502609",
   "metadata": {},
   "source": [
    "## Load data from pickle"
   ]
  },
  {
   "cell_type": "code",
   "execution_count": 8,
   "id": "1e2c5060-c123-4278-8e9d-7eca67f752b1",
   "metadata": {
    "tags": []
   },
   "outputs": [
    {
     "name": "stdout",
     "output_type": "stream",
     "text": [
      "CPU times: total: 5.27 s\n",
      "Wall time: 8.85 s\n"
     ]
    }
   ],
   "source": [
    "%%time\n",
    "with open('data_dict.pkl', 'rb') as f:\n",
    "    data = pickle.load(f)"
   ]
  },
  {
   "cell_type": "code",
   "execution_count": 9,
   "id": "a91e758e-18a2-4fb3-baca-485037d23016",
   "metadata": {
    "tags": []
   },
   "outputs": [
    {
     "data": {
      "text/plain": [
       "dict_keys(['GPD', 'GRDA', 'LPD', 'LRDA', 'Other', 'Seizure'])"
      ]
     },
     "execution_count": 9,
     "metadata": {},
     "output_type": "execute_result"
    }
   ],
   "source": [
    "data.keys()"
   ]
  },
  {
   "cell_type": "markdown",
   "id": "22dfd07b-9651-426b-b5b7-3fb8450ef5cf",
   "metadata": {},
   "source": [
    "## Split data into train set and test set"
   ]
  },
  {
   "cell_type": "markdown",
   "id": "964e6e40-369d-4bfd-824b-68bc9578fe04",
   "metadata": {},
   "source": [
    "Estou fazendo o split antes da remoção dos outliers. Isso significa que pode haver outliers no conjunto de teste. Como não sabemos se os dados de teste da competição possuem colunas absurdas, acredito que vale a pena tentar treinar o modelo dos dois jeitos: removendo os outliers antes e depois do split. Por ora seguirei com a segunda opção."
   ]
  },
  {
   "cell_type": "code",
   "execution_count": 10,
   "id": "7a059855-749d-4a89-b874-d5dfa917eb3e",
   "metadata": {
    "tags": []
   },
   "outputs": [],
   "source": [
    "train_ratio = 0.80"
   ]
  },
  {
   "cell_type": "code",
   "execution_count": 11,
   "id": "2f86bd2e-0dfc-4ad6-9c40-f2f5650fb8c0",
   "metadata": {
    "tags": []
   },
   "outputs": [],
   "source": [
    "train_data = {}\n",
    "test_data = {}\n",
    "\n",
    "for label, dados in data.items():\n",
    "    \n",
    "    eegs = dados[0]\n",
    "    specs = dados[1]\n",
    "    labels = dados[2]\n",
    "    \n",
    "    idx = [i for i in range(eegs.shape[0])]\n",
    "    random.shuffle(idx)\n",
    "    \n",
    "    train_idx = idx[0:int(train_ratio*len(idx))]\n",
    "    test_idx = idx[int(train_ratio*len(idx)):]\n",
    "    \n",
    "    train_data[label] = [eegs[train_idx], specs[train_idx], labels[train_idx]]\n",
    "    test_data[label] = [eegs[test_idx], specs[test_idx], labels[test_idx]]"
   ]
  },
  {
   "cell_type": "code",
   "execution_count": 12,
   "id": "c99227d6-ef2a-451f-bb9d-3004fb4a72c8",
   "metadata": {
    "tags": []
   },
   "outputs": [],
   "source": [
    "def plot_target_distribution(data, ax):\n",
    "    \n",
    "    labels = []\n",
    "    freqs = []\n",
    "    \n",
    "    for label, dados in data.items():\n",
    "        \n",
    "        labels.append(label)\n",
    "        freqs.append(dados[0].shape[0])\n",
    "    \n",
    "    ser = []\n",
    "    \n",
    "    for label, freq in zip(labels,freqs):\n",
    "        ser+=[label]*freq\n",
    "    \n",
    "    ser = pd.Series(ser)\n",
    "    \n",
    "    sns.histplot(ser, ax=ax, kde=True)"
   ]
  },
  {
   "cell_type": "code",
   "execution_count": 13,
   "id": "be6cb6c7-a533-4490-a9f1-300b95e1defb",
   "metadata": {
    "tags": []
   },
   "outputs": [
    {
     "data": {
      "image/png": "[encoded data removed]",
      "text/plain": [
       "<Figure size 2000x2000 with 3 Axes>"
      ]
     },
     "metadata": {},
     "output_type": "display_data"
    }
   ],
   "source": [
    "fig, ax = plt.subplots(3,figsize=(20,20))\n",
    "\n",
    "titles=['data','train data', 'test data']\n",
    "\n",
    "for i, dados in enumerate([data, train_data, test_data]):\n",
    "    \n",
    "    plot_target_distribution(dados,ax[i])\n",
    "    ax[i].set_title(titles[i])"
   ]
  },
  {
   "cell_type": "markdown",
   "id": "35e42cbd-a15e-4046-b181-31ed5cebc1bc",
   "metadata": {},
   "source": [
    "## Out, liers!"
   ]
  },
  {
   "cell_type": "code",
   "execution_count": 14,
   "id": "85d7c91d-d9fd-4094-a4f8-5e3e4f5d2901",
   "metadata": {
    "tags": []
   },
   "outputs": [],
   "source": [
    "THRESHOLD = 10"
   ]
  },
  {
   "cell_type": "code",
   "execution_count": 15,
   "id": "423fea7e-58a3-4420-a8fd-60a30a079f1d",
   "metadata": {
    "tags": []
   },
   "outputs": [],
   "source": [
    "liers=tell_liers(train_data['Seizure'][0])"
   ]
  },
  {
   "cell_type": "code",
   "execution_count": 16,
   "id": "614042bb-438e-49c0-906d-d78f70b09457",
   "metadata": {
    "tags": []
   },
   "outputs": [
    {
     "name": "stdout",
     "output_type": "stream",
     "text": [
      "Número de big liers: 304\n",
      "Proporção de outliers: 0.13644524236983843\n"
     ]
    }
   ],
   "source": [
    "bigliers=big_liers(liers, threshold=7)"
   ]
  },
  {
   "cell_type": "code",
   "execution_count": 17,
   "id": "ae141a07-3e25-4344-9e8d-402efeec1ca2",
   "metadata": {
    "tags": []
   },
   "outputs": [],
   "source": [
    "liers=tell_liers(train_data['Other'][0])"
   ]
  },
  {
   "cell_type": "code",
   "execution_count": 18,
   "id": "ef071171-e687-45b8-9173-b11843386d8e",
   "metadata": {
    "tags": []
   },
   "outputs": [
    {
     "name": "stdout",
     "output_type": "stream",
     "text": [
      "Número de big liers: 1104\n",
      "Proporção de outliers: 0.19179986101459348\n"
     ]
    }
   ],
   "source": [
    "bigliers=big_liers(liers, threshold=7)"
   ]
  },
  {
   "cell_type": "code",
   "execution_count": 19,
   "id": "1f2bafe3-eb30-40c4-8cbc-ba75cc31ac25",
   "metadata": {
    "tags": []
   },
   "outputs": [],
   "source": [
    "def remove_outliers(data,threshold=THRESHOLD):\n",
    "    \n",
    "    output={}\n",
    "    \n",
    "    for label, dados in data.items():\n",
    "        \n",
    "        print(label)\n",
    "        \n",
    "        eegs = dados[0]\n",
    "        specs = dados[1]\n",
    "        labels = dados[2]\n",
    "        \n",
    "        liers = tell_liers(eegs)\n",
    "        idx_to_drop = big_liers(liers, threshold=threshold)\n",
    "        \n",
    "        output[label] = [np.delete(eegs, idx_to_drop, axis=0),np.delete(specs, idx_to_drop, axis=0),np.delete(labels, idx_to_drop, axis=0)]\n",
    "        \n",
    "        print('_________________________________________________________________________')\n",
    "        \n",
    "    return output"
   ]
  },
  {
   "cell_type": "code",
   "execution_count": 20,
   "id": "39db20b0-09a7-4a3a-94af-e06a055f0ddd",
   "metadata": {
    "tags": []
   },
   "outputs": [
    {
     "name": "stdout",
     "output_type": "stream",
     "text": [
      "GPD\n",
      "Número de big liers: 159\n",
      "Proporção de outliers: 0.1112666200139958\n",
      "_________________________________________________________________________\n",
      "GRDA\n",
      "Número de big liers: 139\n",
      "Proporção de outliers: 0.09507523939808482\n",
      "_________________________________________________________________________\n",
      "LPD\n",
      "Número de big liers: 229\n",
      "Proporção de outliers: 0.1111111111111111\n",
      "_________________________________________________________________________\n",
      "LRDA\n",
      "Número de big liers: 82\n",
      "Proporção de outliers: 0.11202185792349727\n",
      "_________________________________________________________________________\n",
      "Other\n",
      "Número de big liers: 882\n",
      "Proporção de outliers: 0.1532314107018763\n",
      "_________________________________________________________________________\n",
      "Seizure\n",
      "Número de big liers: 250\n",
      "Proporção de outliers: 0.11220825852782765\n",
      "_________________________________________________________________________\n"
     ]
    }
   ],
   "source": [
    "train_data = remove_outliers(train_data)"
   ]
  },
  {
   "cell_type": "code",
   "execution_count": 21,
   "id": "38289ab9-b515-4dc5-aa0b-503aa4997533",
   "metadata": {
    "tags": []
   },
   "outputs": [
    {
     "data": {
      "image/png": "[encoded data removed]",
      "text/plain": [
       "<Figure size 640x480 with 1 Axes>"
      ]
     },
     "metadata": {},
     "output_type": "display_data"
    }
   ],
   "source": [
    "fig, ax = plt.subplots()\n",
    "\n",
    "plot_target_distribution(train_data,ax=ax)"
   ]
  },
  {
   "cell_type": "markdown",
   "id": "5113a4ac-b198-4ff9-9165-70220d7b5b72",
   "metadata": {},
   "source": [
    "## Prune \"Other\" in train and test set"
   ]
  },
  {
   "cell_type": "markdown",
   "id": "ffd93835-a403-42c8-815f-b170113d9311",
   "metadata": {},
   "source": [
    "Amostras classificadas como \"Other\" são muito mais frequentes. Como não queremos que o modelo fique especialista em prever \"Other\" e esqueça de suas outras responsabilidades, irei remover amostras dessa classe até que os dados estejam mais balanceados.  "
   ]
  },
  {
   "cell_type": "code",
   "execution_count": 22,
   "id": "547ecec9-ea5e-4475-9405-72e6f09738c4",
   "metadata": {
    "tags": []
   },
   "outputs": [
    {
     "name": "stdout",
     "output_type": "stream",
     "text": [
      "GPD\n",
      "1270 samples\n",
      "_________________________________________________________________________\n",
      "GRDA\n",
      "1323 samples\n",
      "_________________________________________________________________________\n",
      "LPD\n",
      "1832 samples\n",
      "_________________________________________________________________________\n",
      "LRDA\n",
      "650 samples\n",
      "_________________________________________________________________________\n",
      "Other\n",
      "4874 samples\n",
      "_________________________________________________________________________\n",
      "Seizure\n",
      "1978 samples\n",
      "_________________________________________________________________________\n",
      "Media (tirando \"Other\"): 1410.6\n"
     ]
    }
   ],
   "source": [
    "# calcular a média das quantidades de amostras de cada classe, exceto Other. \n",
    "\n",
    "lengths=[]\n",
    "\n",
    "for label, dados in train_data.items():\n",
    "    \n",
    "    print(label)\n",
    "    \n",
    "    eegs=dados[0]\n",
    "    specs=dados[1]\n",
    "    labels=dados[2]\n",
    "    \n",
    "    length=eegs.shape[0]\n",
    "    \n",
    "    print(f'{length} samples')\n",
    "    print('_________________________________________________________________________')\n",
    "    \n",
    "    if label != 'Other':\n",
    "        lengths.append(length)\n",
    "    \n",
    "media_train = sum(lengths)/len(lengths)\n",
    "\n",
    "print(f'Media (tirando \"Other\"): {media_train}')"
   ]
  },
  {
   "cell_type": "code",
   "execution_count": 23,
   "id": "3f111666-58be-4da3-bf23-a44b9cf0f774",
   "metadata": {
    "tags": []
   },
   "outputs": [
    {
     "name": "stdout",
     "output_type": "stream",
     "text": [
      "GPD\n",
      "358 samples\n",
      "_________________________________________________________________________\n",
      "GRDA\n",
      "366 samples\n",
      "_________________________________________________________________________\n",
      "LPD\n",
      "516 samples\n",
      "_________________________________________________________________________\n",
      "LRDA\n",
      "184 samples\n",
      "_________________________________________________________________________\n",
      "Other\n",
      "1440 samples\n",
      "_________________________________________________________________________\n",
      "Seizure\n",
      "557 samples\n",
      "_________________________________________________________________________\n",
      "Media (tirando \"Other\"): 396.2\n"
     ]
    }
   ],
   "source": [
    "# calcular a média das quantidades de amostras de cada classe, exceto Other. \n",
    "\n",
    "lengths=[]\n",
    "\n",
    "for label, dados in test_data.items():\n",
    "    \n",
    "    print(label)\n",
    "    \n",
    "    eegs=dados[0]\n",
    "    specs=dados[1]\n",
    "    labels=dados[2]\n",
    "    \n",
    "    length=eegs.shape[0]\n",
    "    \n",
    "    print(f'{length} samples')\n",
    "    print('_________________________________________________________________________')\n",
    "    \n",
    "    if label != 'Other':\n",
    "        lengths.append(length)\n",
    "    \n",
    "media_test = sum(lengths)/len(lengths)\n",
    "\n",
    "print(f'Media (tirando \"Other\"): {media_test}')"
   ]
  },
  {
   "cell_type": "code",
   "execution_count": 24,
   "id": "e0332aad-8918-4433-9166-828c8c805d1f",
   "metadata": {
    "tags": []
   },
   "outputs": [],
   "source": [
    "train_data['Other']=[train_data['Other'][0][0:int(media_train)],train_data['Other'][1][0:int(media_train)],train_data['Other'][2][0:int(media_train)]]"
   ]
  },
  {
   "cell_type": "code",
   "execution_count": 25,
   "id": "967cfdd3-4cf2-4084-ab50-0717de996d10",
   "metadata": {
    "tags": []
   },
   "outputs": [],
   "source": [
    "test_data['Other']=[test_data['Other'][0][0:int(media_test)],test_data['Other'][1][0:int(media_test)],test_data['Other'][2][0:int(media_test)]]"
   ]
  },
  {
   "cell_type": "code",
   "execution_count": 26,
   "id": "11b37d07-8f4a-449d-9702-1e29505f023b",
   "metadata": {
    "tags": []
   },
   "outputs": [
    {
     "data": {
      "image/png": "[encoded data removed]",
      "text/plain": [
       "<Figure size 640x480 with 2 Axes>"
      ]
     },
     "metadata": {},
     "output_type": "display_data"
    }
   ],
   "source": [
    "fig, ax = plt.subplots(2)\n",
    "\n",
    "plot_target_distribution(train_data, ax=ax[0])\n",
    "ax[0].set_title('Pruned train data')\n",
    "\n",
    "plot_target_distribution(test_data, ax=ax[1])\n",
    "ax[1].set_title('Pruned test data')\n",
    "\n",
    "fig.subplots_adjust(left=None, bottom=None, right=None, top=None, wspace=0, hspace=0.5)"
   ]
  },
  {
   "cell_type": "markdown",
   "id": "ae67041d-a42e-46ca-a72e-be125a8a7bbd",
   "metadata": {},
   "source": [
    "## Data augmentation"
   ]
  },
  {
   "cell_type": "markdown",
   "id": "96ed8bf6-123d-4dde-9d2a-eb11c557190d",
   "metadata": {},
   "source": [
    "Os dados ainda estão desbalanceados. Sugiro um aumento de amostras da classe LRDA, por exemplo. \n",
    "No entanto, vou passar esta etapa por enquanto. Depois testamos diferentes abordagens de data augmentation."
   ]
  },
  {
   "cell_type": "markdown",
   "id": "50f5dbc9-298e-4ffd-9018-41bb8677c6f1",
   "metadata": {},
   "source": [
    "## Handle columns with std=0"
   ]
  },
  {
   "cell_type": "markdown",
   "id": "9f157583-a6f0-4fbc-b466-45e8fccad4a4",
   "metadata": {},
   "source": [
    "Há colunas com std=0. Aceito sugestões de como tratar esses casos. Pensei em clusterizar as amostras por similaridade entre os vetores label normalizados e selecionar uma amostra representativa do cluster para \"doar\" cópias de suas colunas para outras amostras do mesmo cluster. Podemos inclusive aplicar uma softmax com temperatura elevada nas labels antes de clusterizar."
   ]
  },
  {
   "cell_type": "markdown",
   "id": "882ed352-f1ae-4cef-975b-dd464b004c53",
   "metadata": {},
   "source": [
    "## Concatenate classes"
   ]
  },
  {
   "cell_type": "code",
   "execution_count": 27,
   "id": "70c78ef2-4cbe-4714-82f2-7656497361bd",
   "metadata": {
    "tags": []
   },
   "outputs": [],
   "source": [
    "train_eegs = np.concatenate([dados[0] for label, dados in train_data.items()])\n",
    "train_specs = np.concatenate([dados[1] for label, dados in train_data.items()])\n",
    "train_labels = np.concatenate([dados[2] for label, dados in train_data.items()])"
   ]
  },
  {
   "cell_type": "code",
   "execution_count": 28,
   "id": "dd97960a-e2d6-452e-8277-6eb65cee857a",
   "metadata": {
    "tags": []
   },
   "outputs": [],
   "source": [
    "test_eegs = np.concatenate([dados[0] for label, dados in test_data.items()])\n",
    "test_specs = np.concatenate([dados[1] for label, dados in test_data.items()])\n",
    "test_labels = np.concatenate([dados[2] for label, dados in test_data.items()])"
   ]
  },
  {
   "cell_type": "code",
   "execution_count": 29,
   "id": "311b9e2d-89d1-4582-8a31-b06153351f41",
   "metadata": {
    "tags": []
   },
   "outputs": [
    {
     "data": {
      "text/plain": [
       "8463"
      ]
     },
     "execution_count": 29,
     "metadata": {},
     "output_type": "execute_result"
    }
   ],
   "source": [
    "train_eegs.shape[0]"
   ]
  },
  {
   "cell_type": "code",
   "execution_count": 30,
   "id": "c409976b-1bc2-4245-acff-27d7ae5704b8",
   "metadata": {
    "tags": []
   },
   "outputs": [
    {
     "data": {
      "text/plain": [
       "2377"
      ]
     },
     "execution_count": 30,
     "metadata": {},
     "output_type": "execute_result"
    }
   ],
   "source": [
    "test_eegs.shape[0]"
   ]
  },
  {
   "cell_type": "markdown",
   "id": "14427ee1-bcc1-45cf-8479-c5d24efd7e02",
   "metadata": {},
   "source": [
    "## Denoise EEGs"
   ]
  },
  {
   "cell_type": "markdown",
   "id": "4f2466d2-99bc-41e0-993a-92c3754fe469",
   "metadata": {},
   "source": [
    "Não implementei esta etapa, mas é algo que vale a pena considerarmos. \n",
    "\n",
    "Sugestão abaixo. Peguei desse link: https://www.kaggle.com/code/cdeotte/how-to-make-spectrogram-from-eeg?scriptVersionId=159854820"
   ]
  },
  {
   "cell_type": "code",
   "execution_count": 31,
   "id": "29afead4-0dd5-411e-a6b9-b632ca9b0cb6",
   "metadata": {
    "tags": []
   },
   "outputs": [],
   "source": [
    "# DENOISE FUNCTION\n",
    "# testar diferentes valores para \"wavelet\"\n",
    "\n",
    "#import pywt\n",
    "\n",
    "def maddest(d, axis=None):\n",
    "    return np.mean(np.absolute(d - np.mean(d, axis)), axis)\n",
    "\n",
    "def denoise(x, wavelet='haar', level=1):    \n",
    "    coeff = pywt.wavedec(x, wavelet, mode=\"per\")\n",
    "    sigma = (1/0.6745) * maddest(coeff[-level])\n",
    "\n",
    "    uthresh = sigma * np.sqrt(2*np.log(len(x)))\n",
    "    coeff[1:] = (pywt.threshold(i, value=uthresh, mode='hard') for i in coeff[1:])\n",
    "\n",
    "    ret=pywt.waverec(coeff, wavelet, mode='per')\n",
    "    \n",
    "    return ret"
   ]
  },
  {
   "cell_type": "markdown",
   "id": "5ad8261a-cef1-4f11-86e1-9bf474b338c4",
   "metadata": {},
   "source": [
    "## Convert EEGs into Spectrograms"
   ]
  },
  {
   "cell_type": "code",
   "execution_count": 32,
   "id": "1904a2cb-72f7-4b9c-8f1c-1bc19c0e447c",
   "metadata": {
    "tags": []
   },
   "outputs": [],
   "source": [
    "def to_df(data, columns=EEG_COL_NAMES):   \n",
    "    df=pd.DataFrame(data=data, columns=columns)\n",
    "    return df"
   ]
  },
  {
   "cell_type": "code",
   "execution_count": 33,
   "id": "5caf68a0-da98-44af-82fc-666e20dfeac1",
   "metadata": {
    "tags": []
   },
   "outputs": [],
   "source": [
    "df_sample = to_df(train_eegs[0])"
   ]
  },
  {
   "cell_type": "code",
   "execution_count": 34,
   "id": "fb4dfb4b-777c-4a95-8326-2dff84bd043d",
   "metadata": {
    "tags": []
   },
   "outputs": [
    {
     "data": {
      "text/html": [
       "<div>\n",
       "<style scoped>\n",
       "    .dataframe tbody tr th:only-of-type {\n",
       "        vertical-align: middle;\n",
       "    }\n",
       "\n",
       "    .dataframe tbody tr th {\n",
       "        vertical-align: top;\n",
       "    }\n",
       "\n",
       "    .dataframe thead th {\n",
       "        text-align: right;\n",
       "    }\n",
       "</style>\n",
       "<table border=\"1\" class=\"dataframe\">\n",
       "  <thead>\n",
       "    <tr style=\"text-align: right;\">\n",
       "      <th></th>\n",
       "      <th>Fp1</th>\n",
       "      <th>F3</th>\n",
       "      <th>C3</th>\n",
       "      <th>P3</th>\n",
       "      <th>F7</th>\n",
       "      <th>T3</th>\n",
       "      <th>T5</th>\n",
       "      <th>O1</th>\n",
       "      <th>Fz</th>\n",
       "      <th>Cz</th>\n",
       "      <th>Pz</th>\n",
       "      <th>Fp2</th>\n",
       "      <th>F4</th>\n",
       "      <th>C4</th>\n",
       "      <th>P4</th>\n",
       "      <th>F8</th>\n",
       "      <th>T4</th>\n",
       "      <th>T6</th>\n",
       "      <th>O2</th>\n",
       "      <th>EKG</th>\n",
       "    </tr>\n",
       "  </thead>\n",
       "  <tbody>\n",
       "    <tr>\n",
       "      <th>0</th>\n",
       "      <td>-513.539978</td>\n",
       "      <td>-92.040001</td>\n",
       "      <td>-89.970001</td>\n",
       "      <td>-97.519997</td>\n",
       "      <td>-109.300003</td>\n",
       "      <td>-81.120003</td>\n",
       "      <td>-495.480011</td>\n",
       "      <td>-49.200001</td>\n",
       "      <td>-413.329987</td>\n",
       "      <td>-119.209999</td>\n",
       "      <td>-41.529999</td>\n",
       "      <td>-204.410004</td>\n",
       "      <td>-131.949997</td>\n",
       "      <td>-105.820000</td>\n",
       "      <td>-99.610001</td>\n",
       "      <td>-109.430000</td>\n",
       "      <td>-154.619995</td>\n",
       "      <td>-142.009995</td>\n",
       "      <td>-63.450001</td>\n",
       "      <td>15.440000</td>\n",
       "    </tr>\n",
       "    <tr>\n",
       "      <th>1</th>\n",
       "      <td>-492.320007</td>\n",
       "      <td>-64.410004</td>\n",
       "      <td>-60.820000</td>\n",
       "      <td>-67.639999</td>\n",
       "      <td>-84.389999</td>\n",
       "      <td>-49.029999</td>\n",
       "      <td>-494.109985</td>\n",
       "      <td>-25.100000</td>\n",
       "      <td>-380.959991</td>\n",
       "      <td>-82.730003</td>\n",
       "      <td>-6.500000</td>\n",
       "      <td>-179.389999</td>\n",
       "      <td>-87.639999</td>\n",
       "      <td>-66.370003</td>\n",
       "      <td>-63.840000</td>\n",
       "      <td>-53.029999</td>\n",
       "      <td>-111.029999</td>\n",
       "      <td>-108.970001</td>\n",
       "      <td>-31.930000</td>\n",
       "      <td>123.510002</td>\n",
       "    </tr>\n",
       "    <tr>\n",
       "      <th>2</th>\n",
       "      <td>-483.950012</td>\n",
       "      <td>-65.199997</td>\n",
       "      <td>-63.189999</td>\n",
       "      <td>-63.240002</td>\n",
       "      <td>-91.639999</td>\n",
       "      <td>-58.970001</td>\n",
       "      <td>-484.630005</td>\n",
       "      <td>-17.389999</td>\n",
       "      <td>-383.859985</td>\n",
       "      <td>-82.500000</td>\n",
       "      <td>-2.730000</td>\n",
       "      <td>-189.059998</td>\n",
       "      <td>-91.839996</td>\n",
       "      <td>-66.769997</td>\n",
       "      <td>-59.669998</td>\n",
       "      <td>-57.820000</td>\n",
       "      <td>-112.370003</td>\n",
       "      <td>-99.580002</td>\n",
       "      <td>-26.150000</td>\n",
       "      <td>56.930000</td>\n",
       "    </tr>\n",
       "    <tr>\n",
       "      <th>3</th>\n",
       "      <td>-533.940002</td>\n",
       "      <td>-109.260002</td>\n",
       "      <td>-100.519997</td>\n",
       "      <td>-96.589996</td>\n",
       "      <td>-140.320007</td>\n",
       "      <td>-107.760002</td>\n",
       "      <td>-507.220001</td>\n",
       "      <td>-51.990002</td>\n",
       "      <td>-421.329987</td>\n",
       "      <td>-118.669998</td>\n",
       "      <td>-36.299999</td>\n",
       "      <td>-218.259995</td>\n",
       "      <td>-129.639999</td>\n",
       "      <td>-105.000000</td>\n",
       "      <td>-95.889999</td>\n",
       "      <td>-103.059998</td>\n",
       "      <td>-150.740005</td>\n",
       "      <td>-138.960007</td>\n",
       "      <td>-62.590000</td>\n",
       "      <td>-3.220000</td>\n",
       "    </tr>\n",
       "    <tr>\n",
       "      <th>4</th>\n",
       "      <td>-536.919983</td>\n",
       "      <td>-98.220001</td>\n",
       "      <td>-86.680000</td>\n",
       "      <td>-80.650002</td>\n",
       "      <td>-114.910004</td>\n",
       "      <td>-83.050003</td>\n",
       "      <td>-494.040009</td>\n",
       "      <td>-35.919998</td>\n",
       "      <td>-409.910004</td>\n",
       "      <td>-104.760002</td>\n",
       "      <td>-22.049999</td>\n",
       "      <td>-191.570007</td>\n",
       "      <td>-115.989998</td>\n",
       "      <td>-91.779999</td>\n",
       "      <td>-85.209999</td>\n",
       "      <td>-87.919998</td>\n",
       "      <td>-143.199997</td>\n",
       "      <td>-136.630005</td>\n",
       "      <td>-52.669998</td>\n",
       "      <td>29.120001</td>\n",
       "    </tr>\n",
       "    <tr>\n",
       "      <th>...</th>\n",
       "      <td>...</td>\n",
       "      <td>...</td>\n",
       "      <td>...</td>\n",
       "      <td>...</td>\n",
       "      <td>...</td>\n",
       "      <td>...</td>\n",
       "      <td>...</td>\n",
       "      <td>...</td>\n",
       "      <td>...</td>\n",
       "      <td>...</td>\n",
       "      <td>...</td>\n",
       "      <td>...</td>\n",
       "      <td>...</td>\n",
       "      <td>...</td>\n",
       "      <td>...</td>\n",
       "      <td>...</td>\n",
       "      <td>...</td>\n",
       "      <td>...</td>\n",
       "      <td>...</td>\n",
       "      <td>...</td>\n",
       "    </tr>\n",
       "    <tr>\n",
       "      <th>1995</th>\n",
       "      <td>69.800003</td>\n",
       "      <td>49.240002</td>\n",
       "      <td>-0.910000</td>\n",
       "      <td>6.500000</td>\n",
       "      <td>6.620000</td>\n",
       "      <td>4.240000</td>\n",
       "      <td>29.389999</td>\n",
       "      <td>31.040001</td>\n",
       "      <td>59.830002</td>\n",
       "      <td>48.570000</td>\n",
       "      <td>44.279999</td>\n",
       "      <td>65.610001</td>\n",
       "      <td>35.779999</td>\n",
       "      <td>25.610001</td>\n",
       "      <td>17.230000</td>\n",
       "      <td>24.370001</td>\n",
       "      <td>57.830002</td>\n",
       "      <td>24.230000</td>\n",
       "      <td>17.290001</td>\n",
       "      <td>8.000000</td>\n",
       "    </tr>\n",
       "    <tr>\n",
       "      <th>1996</th>\n",
       "      <td>64.279999</td>\n",
       "      <td>42.860001</td>\n",
       "      <td>-6.890000</td>\n",
       "      <td>1.880000</td>\n",
       "      <td>-1.340000</td>\n",
       "      <td>0.190000</td>\n",
       "      <td>25.700001</td>\n",
       "      <td>26.230000</td>\n",
       "      <td>55.090000</td>\n",
       "      <td>42.250000</td>\n",
       "      <td>39.349998</td>\n",
       "      <td>61.009998</td>\n",
       "      <td>34.700001</td>\n",
       "      <td>21.549999</td>\n",
       "      <td>12.200000</td>\n",
       "      <td>33.540001</td>\n",
       "      <td>58.310001</td>\n",
       "      <td>20.360001</td>\n",
       "      <td>11.560000</td>\n",
       "      <td>11.020000</td>\n",
       "    </tr>\n",
       "    <tr>\n",
       "      <th>1997</th>\n",
       "      <td>57.869999</td>\n",
       "      <td>35.869999</td>\n",
       "      <td>-11.630000</td>\n",
       "      <td>-1.130000</td>\n",
       "      <td>-7.220000</td>\n",
       "      <td>-4.200000</td>\n",
       "      <td>21.620001</td>\n",
       "      <td>21.309999</td>\n",
       "      <td>49.360001</td>\n",
       "      <td>37.799999</td>\n",
       "      <td>35.810001</td>\n",
       "      <td>56.580002</td>\n",
       "      <td>29.129999</td>\n",
       "      <td>16.980000</td>\n",
       "      <td>8.730000</td>\n",
       "      <td>27.730000</td>\n",
       "      <td>55.500000</td>\n",
       "      <td>18.350000</td>\n",
       "      <td>8.750000</td>\n",
       "      <td>11.430000</td>\n",
       "    </tr>\n",
       "    <tr>\n",
       "      <th>1998</th>\n",
       "      <td>56.160000</td>\n",
       "      <td>36.020000</td>\n",
       "      <td>-9.090000</td>\n",
       "      <td>3.050000</td>\n",
       "      <td>-7.700000</td>\n",
       "      <td>-4.370000</td>\n",
       "      <td>20.070000</td>\n",
       "      <td>22.719999</td>\n",
       "      <td>50.380001</td>\n",
       "      <td>39.990002</td>\n",
       "      <td>37.970001</td>\n",
       "      <td>59.520000</td>\n",
       "      <td>31.680000</td>\n",
       "      <td>19.299999</td>\n",
       "      <td>10.890000</td>\n",
       "      <td>28.530001</td>\n",
       "      <td>54.369999</td>\n",
       "      <td>18.610001</td>\n",
       "      <td>11.740000</td>\n",
       "      <td>26.820000</td>\n",
       "    </tr>\n",
       "    <tr>\n",
       "      <th>1999</th>\n",
       "      <td>60.060001</td>\n",
       "      <td>42.119999</td>\n",
       "      <td>-2.420000</td>\n",
       "      <td>8.360000</td>\n",
       "      <td>-3.100000</td>\n",
       "      <td>0.470000</td>\n",
       "      <td>26.480000</td>\n",
       "      <td>27.900000</td>\n",
       "      <td>56.799999</td>\n",
       "      <td>47.439999</td>\n",
       "      <td>44.439999</td>\n",
       "      <td>66.190002</td>\n",
       "      <td>38.799999</td>\n",
       "      <td>26.150000</td>\n",
       "      <td>18.010000</td>\n",
       "      <td>34.369999</td>\n",
       "      <td>61.930000</td>\n",
       "      <td>28.600000</td>\n",
       "      <td>17.870001</td>\n",
       "      <td>38.680000</td>\n",
       "    </tr>\n",
       "  </tbody>\n",
       "</table>\n",
       "<p>2000 rows × 20 columns</p>\n",
       "</div>"
      ],
      "text/plain": [
       "             Fp1          F3          C3         P3          F7          T3  \\\n",
       "0    -513.539978  -92.040001  -89.970001 -97.519997 -109.300003  -81.120003   \n",
       "1    -492.320007  -64.410004  -60.820000 -67.639999  -84.389999  -49.029999   \n",
       "2    -483.950012  -65.199997  -63.189999 -63.240002  -91.639999  -58.970001   \n",
       "3    -533.940002 -109.260002 -100.519997 -96.589996 -140.320007 -107.760002   \n",
       "4    -536.919983  -98.220001  -86.680000 -80.650002 -114.910004  -83.050003   \n",
       "...          ...         ...         ...        ...         ...         ...   \n",
       "1995   69.800003   49.240002   -0.910000   6.500000    6.620000    4.240000   \n",
       "1996   64.279999   42.860001   -6.890000   1.880000   -1.340000    0.190000   \n",
       "1997   57.869999   35.869999  -11.630000  -1.130000   -7.220000   -4.200000   \n",
       "1998   56.160000   36.020000   -9.090000   3.050000   -7.700000   -4.370000   \n",
       "1999   60.060001   42.119999   -2.420000   8.360000   -3.100000    0.470000   \n",
       "\n",
       "              T5         O1          Fz          Cz         Pz         Fp2  \\\n",
       "0    -495.480011 -49.200001 -413.329987 -119.209999 -41.529999 -204.410004   \n",
       "1    -494.109985 -25.100000 -380.959991  -82.730003  -6.500000 -179.389999   \n",
       "2    -484.630005 -17.389999 -383.859985  -82.500000  -2.730000 -189.059998   \n",
       "3    -507.220001 -51.990002 -421.329987 -118.669998 -36.299999 -218.259995   \n",
       "4    -494.040009 -35.919998 -409.910004 -104.760002 -22.049999 -191.570007   \n",
       "...          ...        ...         ...         ...        ...         ...   \n",
       "1995   29.389999  31.040001   59.830002   48.570000  44.279999   65.610001   \n",
       "1996   25.700001  26.230000   55.090000   42.250000  39.349998   61.009998   \n",
       "1997   21.620001  21.309999   49.360001   37.799999  35.810001   56.580002   \n",
       "1998   20.070000  22.719999   50.380001   39.990002  37.970001   59.520000   \n",
       "1999   26.480000  27.900000   56.799999   47.439999  44.439999   66.190002   \n",
       "\n",
       "              F4          C4         P4          F8          T4          T6  \\\n",
       "0    -131.949997 -105.820000 -99.610001 -109.430000 -154.619995 -142.009995   \n",
       "1     -87.639999  -66.370003 -63.840000  -53.029999 -111.029999 -108.970001   \n",
       "2     -91.839996  -66.769997 -59.669998  -57.820000 -112.370003  -99.580002   \n",
       "3    -129.639999 -105.000000 -95.889999 -103.059998 -150.740005 -138.960007   \n",
       "4    -115.989998  -91.779999 -85.209999  -87.919998 -143.199997 -136.630005   \n",
       "...          ...         ...        ...         ...         ...         ...   \n",
       "1995   35.779999   25.610001  17.230000   24.370001   57.830002   24.230000   \n",
       "1996   34.700001   21.549999  12.200000   33.540001   58.310001   20.360001   \n",
       "1997   29.129999   16.980000   8.730000   27.730000   55.500000   18.350000   \n",
       "1998   31.680000   19.299999  10.890000   28.530001   54.369999   18.610001   \n",
       "1999   38.799999   26.150000  18.010000   34.369999   61.930000   28.600000   \n",
       "\n",
       "             O2         EKG  \n",
       "0    -63.450001   15.440000  \n",
       "1    -31.930000  123.510002  \n",
       "2    -26.150000   56.930000  \n",
       "3    -62.590000   -3.220000  \n",
       "4    -52.669998   29.120001  \n",
       "...         ...         ...  \n",
       "1995  17.290001    8.000000  \n",
       "1996  11.560000   11.020000  \n",
       "1997   8.750000   11.430000  \n",
       "1998  11.740000   26.820000  \n",
       "1999  17.870001   38.680000  \n",
       "\n",
       "[2000 rows x 20 columns]"
      ]
     },
     "execution_count": 34,
     "metadata": {},
     "output_type": "execute_result"
    }
   ],
   "source": [
    "df_sample"
   ]
  },
  {
   "cell_type": "code",
   "execution_count": 35,
   "id": "c3a665a8-ea2f-443f-b26b-026a1386d30b",
   "metadata": {
    "tags": []
   },
   "outputs": [],
   "source": [
    "NPERSEG = 400"
   ]
  },
  {
   "cell_type": "code",
   "execution_count": 36,
   "id": "712557c5-e571-4df2-b753-003c5a9bcd2f",
   "metadata": {
    "tags": []
   },
   "outputs": [],
   "source": [
    "def spec(data, nperseg=NPERSEG):\n",
    "    return sp.signal.spectrogram(data,fs=200,nperseg=nperseg)"
   ]
  },
  {
   "cell_type": "code",
   "execution_count": 37,
   "id": "99b57d3a-72c7-4477-845d-c1604887f5bd",
   "metadata": {
    "tags": []
   },
   "outputs": [],
   "source": [
    "f, t , s = spec(df_sample['Fp1'])"
   ]
  },
  {
   "cell_type": "code",
   "execution_count": 38,
   "id": "1feedfe4-9b4e-4ca4-b849-be81a9044e7d",
   "metadata": {
    "tags": []
   },
   "outputs": [
    {
     "data": {
      "text/plain": [
       "array([1.  , 2.75, 4.5 , 6.25, 8.  ])"
      ]
     },
     "execution_count": 38,
     "metadata": {},
     "output_type": "execute_result"
    }
   ],
   "source": [
    "t"
   ]
  },
  {
   "cell_type": "code",
   "execution_count": 39,
   "id": "aae3dcfc-3bf6-4418-8c59-11aff1dfdc68",
   "metadata": {
    "tags": []
   },
   "outputs": [
    {
     "data": {
      "text/plain": [
       "(201, 5)"
      ]
     },
     "execution_count": 39,
     "metadata": {},
     "output_type": "execute_result"
    }
   ],
   "source": [
    "s.shape"
   ]
  },
  {
   "cell_type": "code",
   "execution_count": 40,
   "id": "15edbfe5-2198-4e98-b3eb-e226cbbe2437",
   "metadata": {
    "tags": []
   },
   "outputs": [
    {
     "data": {
      "text/plain": [
       "140"
      ]
     },
     "execution_count": 40,
     "metadata": {},
     "output_type": "execute_result"
    }
   ],
   "source": [
    "int(0.7*201)"
   ]
  },
  {
   "cell_type": "code",
   "execution_count": 41,
   "id": "1a4f51b3-5d2a-432c-8216-a41a240d3554",
   "metadata": {
    "tags": []
   },
   "outputs": [
    {
     "data": {
      "text/plain": [
       "array([ 0.5,  1. ,  1.5,  2. ,  2.5,  3. ,  3.5,  4. ,  4.5,  5. ,  5.5,\n",
       "        6. ,  6.5,  7. ,  7.5,  8. ,  8.5,  9. ,  9.5, 10. , 10.5, 11. ,\n",
       "       11.5, 12. , 12.5, 13. , 13.5, 14. , 14.5, 15. , 15.5, 16. , 16.5,\n",
       "       17. , 17.5, 18. , 18.5, 19. , 19.5, 20. , 20.5, 21. , 21.5, 22. ,\n",
       "       22.5, 23. , 23.5, 24. , 24.5, 25. , 25.5, 26. , 26.5, 27. , 27.5,\n",
       "       28. , 28.5, 29. , 29.5, 30. , 30.5, 31. , 31.5, 32. , 32.5, 33. ,\n",
       "       33.5, 34. , 34.5, 35. , 35.5, 36. , 36.5, 37. , 37.5, 38. , 38.5,\n",
       "       39. , 39.5, 40. , 40.5, 41. , 41.5, 42. , 42.5, 43. , 43.5, 44. ,\n",
       "       44.5, 45. , 45.5, 46. , 46.5, 47. , 47.5, 48. , 48.5, 49. , 49.5,\n",
       "       50. , 50.5, 51. , 51.5, 52. , 52.5, 53. , 53.5, 54. , 54.5, 55. ,\n",
       "       55.5, 56. , 56.5, 57. , 57.5, 58. , 58.5, 59. , 59.5, 60. , 60.5,\n",
       "       61. , 61.5, 62. , 62.5, 63. , 63.5, 64. , 64.5, 65. , 65.5, 66. ,\n",
       "       66.5, 67. , 67.5, 68. , 68.5, 69. , 69.5, 70. ])"
      ]
     },
     "execution_count": 41,
     "metadata": {},
     "output_type": "execute_result"
    }
   ],
   "source": [
    "f[1:141]"
   ]
  },
  {
   "cell_type": "code",
   "execution_count": 42,
   "id": "eeaa5b4c-fd84-44f7-9485-883b0b9c91e2",
   "metadata": {},
   "outputs": [],
   "source": [
    "CHAINS = {\n",
    "    'LL' : [(\"Fp1\",\"F7\"),(\"F7\",\"T3\"),(\"T3\",\"T5\"),(\"T5\",\"O1\")],\n",
    "    'RL' : [(\"Fp2\",\"F8\"),(\"F8\",\"T4\"),(\"T4\",\"T6\"),(\"T6\",\"O2\")],\n",
    "    'LP' : [(\"Fp1\",\"F3\"),(\"F3\",\"C3\"),(\"C3\",\"P3\"),(\"P3\",\"O1\")],\n",
    "    'RP' : [(\"Fp2\",\"F4\"),(\"F4\",\"C4\"),(\"C4\",\"P4\"),(\"P4\",\"O2\")]\n",
    "}"
   ]
  },
  {
   "cell_type": "code",
   "execution_count": 43,
   "id": "35302d3c-5223-422f-88e7-8cef138ee39d",
   "metadata": {
    "tags": []
   },
   "outputs": [],
   "source": [
    "def magic_spec(data):\n",
    "    \n",
    "    freqs, t, s = spec(data['Fp1'])\n",
    "    n_rows=t.shape[0]\n",
    "    f_lim = int(0.7*freqs.shape[0])+1\n",
    "    output = []\n",
    "    \n",
    "    for region in CHAINS.keys():\n",
    "        \n",
    "        magic_spec = pd.DataFrame({region+str(f):[0]*n_rows for f in freqs[1:f_lim]})\n",
    "        \n",
    "        for pair in CHAINS[region]:\n",
    "            \n",
    "            f, t, s1 = spec(data[pair[0]])\n",
    "            f, t, s2 = spec(data[pair[1]])\n",
    "            \n",
    "            magic_spec = magic_spec.add(pd.DataFrame(data=s1[1:f_lim].T-s2[1:f_lim].T, columns=[region+str(freq) for freq in f[1:f_lim]]))\n",
    "            \n",
    "        output.append(magic_spec/4)\n",
    "        \n",
    "    return pd.concat(output, axis=1)"
   ]
  },
  {
   "cell_type": "code",
   "execution_count": 44,
   "id": "82c51051-3ad3-4ab0-bf28-bfc3205cbda5",
   "metadata": {
    "tags": []
   },
   "outputs": [
    {
     "data": {
      "text/html": [
       "<div>\n",
       "<style scoped>\n",
       "    .dataframe tbody tr th:only-of-type {\n",
       "        vertical-align: middle;\n",
       "    }\n",
       "\n",
       "    .dataframe tbody tr th {\n",
       "        vertical-align: top;\n",
       "    }\n",
       "\n",
       "    .dataframe thead th {\n",
       "        text-align: right;\n",
       "    }\n",
       "</style>\n",
       "<table border=\"1\" class=\"dataframe\">\n",
       "  <thead>\n",
       "    <tr style=\"text-align: right;\">\n",
       "      <th></th>\n",
       "      <th>LL0.5</th>\n",
       "      <th>LL1.0</th>\n",
       "      <th>LL1.5</th>\n",
       "      <th>LL2.0</th>\n",
       "      <th>LL2.5</th>\n",
       "      <th>LL3.0</th>\n",
       "      <th>LL3.5</th>\n",
       "      <th>LL4.0</th>\n",
       "      <th>LL4.5</th>\n",
       "      <th>LL5.0</th>\n",
       "      <th>...</th>\n",
       "      <th>RP65.5</th>\n",
       "      <th>RP66.0</th>\n",
       "      <th>RP66.5</th>\n",
       "      <th>RP67.0</th>\n",
       "      <th>RP67.5</th>\n",
       "      <th>RP68.0</th>\n",
       "      <th>RP68.5</th>\n",
       "      <th>RP69.0</th>\n",
       "      <th>RP69.5</th>\n",
       "      <th>RP70.0</th>\n",
       "    </tr>\n",
       "  </thead>\n",
       "  <tbody>\n",
       "    <tr>\n",
       "      <th>0</th>\n",
       "      <td>23676.682312</td>\n",
       "      <td>894.490211</td>\n",
       "      <td>284.063747</td>\n",
       "      <td>9.909897</td>\n",
       "      <td>-1.600739</td>\n",
       "      <td>52.500978</td>\n",
       "      <td>57.829386</td>\n",
       "      <td>24.323332</td>\n",
       "      <td>13.421355</td>\n",
       "      <td>4.817947</td>\n",
       "      <td>...</td>\n",
       "      <td>0.186385</td>\n",
       "      <td>0.347224</td>\n",
       "      <td>0.068839</td>\n",
       "      <td>0.042373</td>\n",
       "      <td>0.471107</td>\n",
       "      <td>0.674569</td>\n",
       "      <td>0.051859</td>\n",
       "      <td>0.075713</td>\n",
       "      <td>-0.046232</td>\n",
       "      <td>0.015814</td>\n",
       "    </tr>\n",
       "    <tr>\n",
       "      <th>1</th>\n",
       "      <td>2069.376007</td>\n",
       "      <td>369.307720</td>\n",
       "      <td>51.936975</td>\n",
       "      <td>16.422195</td>\n",
       "      <td>71.391180</td>\n",
       "      <td>13.392467</td>\n",
       "      <td>-1.137039</td>\n",
       "      <td>1.345787</td>\n",
       "      <td>3.759397</td>\n",
       "      <td>0.319363</td>\n",
       "      <td>...</td>\n",
       "      <td>-0.049577</td>\n",
       "      <td>0.078560</td>\n",
       "      <td>-0.033913</td>\n",
       "      <td>0.004545</td>\n",
       "      <td>0.032073</td>\n",
       "      <td>-0.036277</td>\n",
       "      <td>-0.020842</td>\n",
       "      <td>-0.098242</td>\n",
       "      <td>0.050275</td>\n",
       "      <td>0.010804</td>\n",
       "    </tr>\n",
       "    <tr>\n",
       "      <th>2</th>\n",
       "      <td>-42.753189</td>\n",
       "      <td>137.506033</td>\n",
       "      <td>179.407917</td>\n",
       "      <td>49.109855</td>\n",
       "      <td>12.556685</td>\n",
       "      <td>3.161936</td>\n",
       "      <td>10.620969</td>\n",
       "      <td>5.721990</td>\n",
       "      <td>4.584545</td>\n",
       "      <td>3.006102</td>\n",
       "      <td>...</td>\n",
       "      <td>0.034054</td>\n",
       "      <td>-0.025525</td>\n",
       "      <td>-0.008300</td>\n",
       "      <td>-0.051826</td>\n",
       "      <td>0.048324</td>\n",
       "      <td>0.017073</td>\n",
       "      <td>0.018937</td>\n",
       "      <td>0.001331</td>\n",
       "      <td>-0.004417</td>\n",
       "      <td>0.015462</td>\n",
       "    </tr>\n",
       "    <tr>\n",
       "      <th>3</th>\n",
       "      <td>38.496739</td>\n",
       "      <td>21.199146</td>\n",
       "      <td>70.440222</td>\n",
       "      <td>22.313950</td>\n",
       "      <td>1.276852</td>\n",
       "      <td>-4.655123</td>\n",
       "      <td>-3.633803</td>\n",
       "      <td>-2.642239</td>\n",
       "      <td>-4.330013</td>\n",
       "      <td>3.144743</td>\n",
       "      <td>...</td>\n",
       "      <td>0.035288</td>\n",
       "      <td>0.046315</td>\n",
       "      <td>-0.001064</td>\n",
       "      <td>-0.015238</td>\n",
       "      <td>0.003045</td>\n",
       "      <td>-0.025739</td>\n",
       "      <td>0.001368</td>\n",
       "      <td>-0.025937</td>\n",
       "      <td>-0.033852</td>\n",
       "      <td>0.032053</td>\n",
       "    </tr>\n",
       "    <tr>\n",
       "      <th>4</th>\n",
       "      <td>179.255439</td>\n",
       "      <td>146.823450</td>\n",
       "      <td>42.695520</td>\n",
       "      <td>27.398613</td>\n",
       "      <td>8.739530</td>\n",
       "      <td>0.891692</td>\n",
       "      <td>-4.799182</td>\n",
       "      <td>-3.744834</td>\n",
       "      <td>-0.502179</td>\n",
       "      <td>1.030463</td>\n",
       "      <td>...</td>\n",
       "      <td>-0.002544</td>\n",
       "      <td>-0.029306</td>\n",
       "      <td>0.045350</td>\n",
       "      <td>-0.025174</td>\n",
       "      <td>0.022377</td>\n",
       "      <td>0.126679</td>\n",
       "      <td>0.014211</td>\n",
       "      <td>-0.015234</td>\n",
       "      <td>0.011303</td>\n",
       "      <td>-0.001248</td>\n",
       "    </tr>\n",
       "  </tbody>\n",
       "</table>\n",
       "<p>5 rows × 560 columns</p>\n",
       "</div>"
      ],
      "text/plain": [
       "          LL0.5       LL1.0       LL1.5      LL2.0      LL2.5      LL3.0  \\\n",
       "0  23676.682312  894.490211  284.063747   9.909897  -1.600739  52.500978   \n",
       "1   2069.376007  369.307720   51.936975  16.422195  71.391180  13.392467   \n",
       "2    -42.753189  137.506033  179.407917  49.109855  12.556685   3.161936   \n",
       "3     38.496739   21.199146   70.440222  22.313950   1.276852  -4.655123   \n",
       "4    179.255439  146.823450   42.695520  27.398613   8.739530   0.891692   \n",
       "\n",
       "       LL3.5      LL4.0      LL4.5     LL5.0  ...    RP65.5    RP66.0  \\\n",
       "0  57.829386  24.323332  13.421355  4.817947  ...  0.186385  0.347224   \n",
       "1  -1.137039   1.345787   3.759397  0.319363  ... -0.049577  0.078560   \n",
       "2  10.620969   5.721990   4.584545  3.006102  ...  0.034054 -0.025525   \n",
       "3  -3.633803  -2.642239  -4.330013  3.144743  ...  0.035288  0.046315   \n",
       "4  -4.799182  -3.744834  -0.502179  1.030463  ... -0.002544 -0.029306   \n",
       "\n",
       "     RP66.5    RP67.0    RP67.5    RP68.0    RP68.5    RP69.0    RP69.5  \\\n",
       "0  0.068839  0.042373  0.471107  0.674569  0.051859  0.075713 -0.046232   \n",
       "1 -0.033913  0.004545  0.032073 -0.036277 -0.020842 -0.098242  0.050275   \n",
       "2 -0.008300 -0.051826  0.048324  0.017073  0.018937  0.001331 -0.004417   \n",
       "3 -0.001064 -0.015238  0.003045 -0.025739  0.001368 -0.025937 -0.033852   \n",
       "4  0.045350 -0.025174  0.022377  0.126679  0.014211 -0.015234  0.011303   \n",
       "\n",
       "     RP70.0  \n",
       "0  0.015814  \n",
       "1  0.010804  \n",
       "2  0.015462  \n",
       "3  0.032053  \n",
       "4 -0.001248  \n",
       "\n",
       "[5 rows x 560 columns]"
      ]
     },
     "execution_count": 44,
     "metadata": {},
     "output_type": "execute_result"
    }
   ],
   "source": [
    "magic_spec(df_sample)"
   ]
  },
  {
   "cell_type": "code",
   "execution_count": 45,
   "id": "b268703d-3692-4ce0-bb4f-b9394180a5be",
   "metadata": {},
   "outputs": [],
   "source": [
    "def eegs_to_spec(eegs):\n",
    "    \n",
    "    output=[]\n",
    "    \n",
    "    for eeg in eegs:\n",
    "        \n",
    "        spec = magic_spec(to_df(eeg)).values\n",
    "        \n",
    "        output.append(spec)\n",
    "        \n",
    "    return np.stack(output)"
   ]
  },
  {
   "cell_type": "code",
   "execution_count": 46,
   "id": "f0f88576-d307-4d72-a196-5f2126f76270",
   "metadata": {
    "tags": []
   },
   "outputs": [
    {
     "data": {
      "text/plain": [
       "(8463, 2000, 20)"
      ]
     },
     "execution_count": 46,
     "metadata": {},
     "output_type": "execute_result"
    }
   ],
   "source": [
    "train_eegs.shape"
   ]
  },
  {
   "cell_type": "code",
   "execution_count": 47,
   "id": "33588ac4-9bc0-451b-b7d3-2f78d3e874a7",
   "metadata": {
    "tags": []
   },
   "outputs": [
    {
     "name": "stdout",
     "output_type": "stream",
     "text": [
      "CPU times: total: 3min 9s\n",
      "Wall time: 3min 57s\n"
     ]
    }
   ],
   "source": [
    "%%time\n",
    "\n",
    "tr_train_eegs = eegs_to_spec(train_eegs)"
   ]
  },
  {
   "cell_type": "code",
   "execution_count": 48,
   "id": "35629ea3-df21-48eb-bbba-a793ea0d6f4c",
   "metadata": {
    "tags": []
   },
   "outputs": [
    {
     "data": {
      "text/plain": [
       "(8463, 5, 560)"
      ]
     },
     "execution_count": 48,
     "metadata": {},
     "output_type": "execute_result"
    }
   ],
   "source": [
    "tr_train_eegs.shape"
   ]
  },
  {
   "cell_type": "code",
   "execution_count": 49,
   "id": "e057f6f4-4307-4052-9ddd-2b310553d553",
   "metadata": {
    "tags": []
   },
   "outputs": [
    {
     "data": {
      "text/plain": [
       "(2377, 2000, 20)"
      ]
     },
     "execution_count": 49,
     "metadata": {},
     "output_type": "execute_result"
    }
   ],
   "source": [
    "test_eegs.shape"
   ]
  },
  {
   "cell_type": "code",
   "execution_count": 50,
   "id": "e29ac0b9-9753-4922-a60f-213266b2b6c1",
   "metadata": {
    "tags": []
   },
   "outputs": [
    {
     "name": "stdout",
     "output_type": "stream",
     "text": [
      "CPU times: total: 1min\n",
      "Wall time: 1min 4s\n"
     ]
    }
   ],
   "source": [
    "%%time\n",
    "\n",
    "tr_test_eegs = eegs_to_spec(test_eegs)"
   ]
  },
  {
   "cell_type": "code",
   "execution_count": 51,
   "id": "b80cd579-b6bd-4c41-8a56-9791f382b29b",
   "metadata": {
    "tags": []
   },
   "outputs": [
    {
     "data": {
      "text/plain": [
       "(2377, 5, 560)"
      ]
     },
     "execution_count": 51,
     "metadata": {},
     "output_type": "execute_result"
    }
   ],
   "source": [
    "tr_test_eegs.shape"
   ]
  },
  {
   "cell_type": "code",
   "execution_count": 52,
   "id": "b1608c6c-ea58-4991-bc7b-3cd7ed153bf6",
   "metadata": {
    "tags": []
   },
   "outputs": [
    {
     "data": {
      "text/plain": [
       "(8463, 5, 400)"
      ]
     },
     "execution_count": 52,
     "metadata": {},
     "output_type": "execute_result"
    }
   ],
   "source": [
    "train_specs.shape"
   ]
  },
  {
   "cell_type": "code",
   "execution_count": 53,
   "id": "3237e092-4397-4f5a-90b2-0c51e05b3675",
   "metadata": {
    "tags": []
   },
   "outputs": [
    {
     "data": {
      "text/plain": [
       "(2377, 5, 400)"
      ]
     },
     "execution_count": 53,
     "metadata": {},
     "output_type": "execute_result"
    }
   ],
   "source": [
    "test_specs.shape"
   ]
  },
  {
   "cell_type": "markdown",
   "id": "81a8d048-b886-45cf-858b-d93c3a909d4b",
   "metadata": {},
   "source": [
    "## Checkpoint\n",
    "\n",
    "Temos agora:\n",
    "\n",
    "- tr_train_eegs\n",
    "- train_specs\n",
    "- train_labels\n",
    "- tr_test_eegs\n",
    "- test_specs\n",
    "- test_labels"
   ]
  },
  {
   "cell_type": "markdown",
   "id": "2aca1d12-462f-43f5-b6b5-d588a35ea877",
   "metadata": {},
   "source": [
    "## Merge EEG Specs with Kaggle Specs"
   ]
  },
  {
   "cell_type": "code",
   "execution_count": 55,
   "id": "a9a363c8-6ad5-4171-b4c1-37592dab4f73",
   "metadata": {
    "tags": []
   },
   "outputs": [],
   "source": [
    "def assemble_data(tr_eegs, specs):\n",
    "    \n",
    "    if tr_eegs.shape[1]==specs.shape[1]: # verifica se os dois arrays têm o mesmo número de linhas\n",
    "        \n",
    "        output=[]\n",
    "        \n",
    "        for tr_eeg, spec in zip(tr_eegs, specs):\n",
    "            \n",
    "            output.append(np.concatenate((tr_eeg, spec), axis=1))\n",
    "        \n",
    "        return np.stack(output)\n",
    "                          \n",
    "    else:\n",
    "        print('É preciso implentar o preenchimento de um dos arrays até que ambos tenham o mesmo shape.')      "
   ]
  },
  {
   "cell_type": "code",
   "execution_count": 56,
   "id": "9c629288-f6a2-43ec-87c6-01c10125ff8a",
   "metadata": {
    "tags": []
   },
   "outputs": [
    {
     "name": "stdout",
     "output_type": "stream",
     "text": [
      "CPU times: total: 500 ms\n",
      "Wall time: 687 ms\n"
     ]
    }
   ],
   "source": [
    "%%time\n",
    "\n",
    "X_train = assemble_data(tr_train_eegs, train_specs)"
   ]
  },
  {
   "cell_type": "code",
   "execution_count": 58,
   "id": "c6208362-838a-4e5e-ab0e-9dfb690e2c8a",
   "metadata": {
    "tags": []
   },
   "outputs": [
    {
     "data": {
      "text/plain": [
       "(8463, 5, 960)"
      ]
     },
     "execution_count": 58,
     "metadata": {},
     "output_type": "execute_result"
    }
   ],
   "source": [
    "X_train.shape"
   ]
  },
  {
   "cell_type": "code",
   "execution_count": 59,
   "id": "297b0c10-011b-4483-b3d4-2127b20dad6a",
   "metadata": {
    "tags": []
   },
   "outputs": [],
   "source": [
    "y_train = train_labels"
   ]
  },
  {
   "cell_type": "code",
   "execution_count": 60,
   "id": "5b4f25d0-4624-487b-89bd-ca0dcd604a97",
   "metadata": {
    "tags": []
   },
   "outputs": [
    {
     "data": {
      "text/plain": [
       "(8463, 6)"
      ]
     },
     "execution_count": 60,
     "metadata": {},
     "output_type": "execute_result"
    }
   ],
   "source": [
    "y_train.shape"
   ]
  },
  {
   "cell_type": "code",
   "execution_count": 61,
   "id": "3be274c4-6a5c-4732-81e0-6995526c66f6",
   "metadata": {
    "tags": []
   },
   "outputs": [],
   "source": [
    "X_test = assemble_data(tr_test_eegs, test_specs)"
   ]
  },
  {
   "cell_type": "code",
   "execution_count": 62,
   "id": "a19891b2-d1b2-4194-91a2-c6bf28d30864",
   "metadata": {
    "tags": []
   },
   "outputs": [],
   "source": [
    "y_test = test_labels"
   ]
  },
  {
   "cell_type": "markdown",
   "id": "0c582280-b743-4129-bb96-004fa91135cb",
   "metadata": {},
   "source": [
    "## Standardization (mean=0, std=1)"
   ]
  },
  {
   "cell_type": "code",
   "execution_count": 66,
   "id": "59061c2b-43a1-47d4-83a7-c05a00c9608a",
   "metadata": {
    "tags": []
   },
   "outputs": [],
   "source": [
    "def normalize_data(tensor):\n",
    "    \n",
    "    normalized_tensor=[]\n",
    "    \n",
    "    for data in tensor:\n",
    "        # Calculate mean and standard deviation for each column\n",
    "        mean = np.mean(data, axis=0)\n",
    "        std_dev = np.std(data, axis=0)\n",
    "        if 0 in std_dev: std_dev+=0.0000001\n",
    "        # Center the data by subtracting the mean\n",
    "        centered_data = data - mean\n",
    "\n",
    "        # Scale the data by dividing by the standard deviation\n",
    "        normalized_data = centered_data / std_dev\n",
    "\n",
    "        normalized_tensor.append(normalized_data)\n",
    "        \n",
    "    return np.stack(normalized_tensor)"
   ]
  },
  {
   "cell_type": "code",
   "execution_count": 73,
   "id": "8a0657a1-de8b-44ef-90af-bcf68d33f2e2",
   "metadata": {
    "tags": []
   },
   "outputs": [],
   "source": [
    "X_train = normalize_data(X_train)"
   ]
  },
  {
   "cell_type": "code",
   "execution_count": 74,
   "id": "f31b45fb-c49c-4d78-b11a-048f22da5a3c",
   "metadata": {
    "tags": []
   },
   "outputs": [],
   "source": [
    "X_test = normalize_data(X_test)"
   ]
  },
  {
   "cell_type": "code",
   "execution_count": 75,
   "id": "0f774396-03a5-4ae5-893c-ec5dc71158a3",
   "metadata": {
    "tags": []
   },
   "outputs": [],
   "source": [
    "tr_data={'X_train':X_train,'y_train':y_train,'X_test':X_test,'y_test':y_test}"
   ]
  },
  {
   "cell_type": "code",
   "execution_count": 76,
   "id": "a735d8b2-01c5-4d22-9ec7-18697ea2852c",
   "metadata": {
    "tags": []
   },
   "outputs": [],
   "source": [
    "# Specify the file path where you want to save the dictionary\n",
    "file_path = 'tr_data.pkl'\n",
    "\n",
    "# Open the file in binary write mode and save the dictionary using pickle\n",
    "with open(file_path, 'wb') as f:\n",
    "    pickle.dump(tr_data, f)"
   ]
  },
  {
   "cell_type": "code",
   "execution_count": null,
   "id": "6beb8356-3dc0-4289-b070-966ebea004ed",
   "metadata": {},
   "outputs": [],
   "source": []
  }
 ],
 "metadata": {
  "kernelspec": {
   "display_name": "Python 3 (ipykernel)",
   "language": "python",
   "name": "python3"
  },
  "language_info": {
   "codemirror_mode": {
    "name": "ipython",
    "version": 3
   },
   "file_extension": ".py",
   "mimetype": "text/x-python",
   "name": "python",
   "nbconvert_exporter": "python",
   "pygments_lexer": "ipython3",
   "version": "3.11.4"
  }
 },
 "nbformat": 4,
 "nbformat_minor": 5
}
